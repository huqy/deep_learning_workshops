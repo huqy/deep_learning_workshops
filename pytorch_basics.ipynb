{
  "nbformat": 4,
  "nbformat_minor": 0,
  "metadata": {
    "colab": {
      "name": "pytorch_basics.ipynb",
      "provenance": [],
      "toc_visible": true
    },
    "kernelspec": {
      "name": "python3",
      "display_name": "Python 3"
    },
    "accelerator": "GPU"
  },
  "cells": [
    {
      "cell_type": "markdown",
      "metadata": {
        "id": "XpmMgAzW-_Pz"
      },
      "source": [
        "**Note**: Some of the PyTorch code examples are digested from \n",
        "\n",
        "1. [Deep Learning with PyTorch: A 60 Minute Blitz](https://pytorch.org/tutorials/beginner/deep_learning_60min_blitz.html) \n",
        "2. [Github repo](https://github.com/deep-learning-with-pytorch/dlwpt-code) for \"Deep Learning with PyTorch\""
      ]
    },
    {
      "cell_type": "markdown",
      "metadata": {
        "id": "DJ_eVZoImlZW"
      },
      "source": [
        "# Google Colab Basics\n",
        "\n"
      ]
    },
    {
      "cell_type": "markdown",
      "metadata": {
        "id": "nZP4FMTtmxEA"
      },
      "source": [
        "## Check the resources obtained from Collab"
      ]
    },
    {
      "cell_type": "markdown",
      "metadata": {
        "id": "9uMuftEImym3"
      },
      "source": [
        "Google colab is a free to use Jupyter notebook , that allows you to use free Tesla T4 GPU it also gives you a total of 12 GB of ram , and you can use it up to 12 hours in row"
      ]
    },
    {
      "cell_type": "code",
      "metadata": {
        "id": "BvTz5fe2m8cf"
      },
      "source": [
        "!lsb_release -a"
      ],
      "execution_count": null,
      "outputs": []
    },
    {
      "cell_type": "code",
      "metadata": {
        "id": "AnbX1PwPnDXl"
      },
      "source": [
        "!uname -r"
      ],
      "execution_count": null,
      "outputs": []
    },
    {
      "cell_type": "code",
      "metadata": {
        "id": "IfxfE5VQnExV"
      },
      "source": [
        "!lscpu | grep 'Model name'\n",
        "!lscpu | grep 'Socket(s):'\n",
        "!lscpu | grep 'Thread(s) per core'\n",
        "!lscpu | grep \"L3 cache\""
      ],
      "execution_count": null,
      "outputs": []
    },
    {
      "cell_type": "code",
      "metadata": {
        "id": "ORILkenqnIFX"
      },
      "source": [
        "!cat /proc/meminfo | grep 'MemAvailable'"
      ],
      "execution_count": null,
      "outputs": []
    },
    {
      "cell_type": "code",
      "metadata": {
        "id": "R7ClJ_wNnK7z"
      },
      "source": [
        "!df -h / | awk '{print $4}'"
      ],
      "execution_count": null,
      "outputs": []
    },
    {
      "cell_type": "code",
      "metadata": {
        "id": "bEjLUGTXnNaa"
      },
      "source": [
        "!nvidia-smi"
      ],
      "execution_count": null,
      "outputs": []
    },
    {
      "cell_type": "markdown",
      "metadata": {
        "id": "sPt5y71ynZTc"
      },
      "source": [
        "## Check the libs in Colab"
      ]
    },
    {
      "cell_type": "code",
      "metadata": {
        "id": "cLX4sEYbnaXo",
        "colab": {
          "base_uri": "https://localhost:8080/"
        },
        "outputId": "dfca4291-230d-48ba-bfd9-9effbc1eb146"
      },
      "source": [
        "import sys\n",
        "print('The python version is', sys.version)"
      ],
      "execution_count": null,
      "outputs": [
        {
          "output_type": "stream",
          "name": "stdout",
          "text": [
            "The python version is 3.7.12 (default, Sep 10 2021, 00:21:48) \n",
            "[GCC 7.5.0]\n"
          ]
        }
      ]
    },
    {
      "cell_type": "code",
      "metadata": {
        "id": "r22pYH7zYqZm",
        "colab": {
          "base_uri": "https://localhost:8080/"
        },
        "outputId": "5a369deb-0f10-44fb-8381-fdd9b8e9ac4a"
      },
      "source": [
        "from __future__ import print_function\n",
        "import torch\n",
        "print(torch.__version__)"
      ],
      "execution_count": null,
      "outputs": [
        {
          "output_type": "stream",
          "name": "stdout",
          "text": [
            "1.10.0+cu111\n"
          ]
        }
      ]
    },
    {
      "cell_type": "code",
      "metadata": {
        "id": "GXer5iQhvrV5",
        "colab": {
          "base_uri": "https://localhost:8080/"
        },
        "outputId": "c2521692-38ab-434d-8d5b-58dd82cca29e"
      },
      "source": [
        "device = torch.device(\"cuda:0\" if torch.cuda.is_available() else \"cpu\")\n",
        "print(device)"
      ],
      "execution_count": null,
      "outputs": [
        {
          "output_type": "stream",
          "name": "stdout",
          "text": [
            "cuda:0\n"
          ]
        }
      ]
    },
    {
      "cell_type": "markdown",
      "metadata": {
        "id": "0UodTj2pdi1O"
      },
      "source": [
        "# Tensor Basics"
      ]
    },
    {
      "cell_type": "markdown",
      "metadata": {
        "id": "WseF3aond2hV"
      },
      "source": [
        "### Initialization "
      ]
    },
    {
      "cell_type": "code",
      "metadata": {
        "id": "lRWYc7QpZL8X",
        "colab": {
          "base_uri": "https://localhost:8080/",
          "height": 102
        },
        "outputId": "3802b38e-f93e-4bfa-ad73-fae8d04de09e"
      },
      "source": [
        "# Construct a 5x3 matrix, uninitialized\n",
        "x = torch.empty(5, 3)\n",
        "print(x)"
      ],
      "execution_count": null,
      "outputs": [
        {
          "output_type": "stream",
          "text": [
            "tensor([[1.0178e-35, 0.0000e+00, 0.0000e+00],\n",
            "        [0.0000e+00, 0.0000e+00, 0.0000e+00],\n",
            "        [0.0000e+00, 0.0000e+00, 2.8026e-45],\n",
            "        [0.0000e+00, 1.1210e-44, 0.0000e+00],\n",
            "        [1.4013e-45, 0.0000e+00, 0.0000e+00]])\n"
          ],
          "name": "stdout"
        }
      ]
    },
    {
      "cell_type": "code",
      "metadata": {
        "id": "WJDiat4XZ46Z",
        "colab": {
          "base_uri": "https://localhost:8080/",
          "height": 34
        },
        "outputId": "944dfa2d-a923-44e2-d7c1-594a4ac78441"
      },
      "source": [
        "x.shape"
      ],
      "execution_count": null,
      "outputs": [
        {
          "output_type": "execute_result",
          "data": {
            "text/plain": [
              "torch.Size([5, 3])"
            ]
          },
          "metadata": {
            "tags": []
          },
          "execution_count": 11
        }
      ]
    },
    {
      "cell_type": "code",
      "metadata": {
        "id": "_2Y1mToyY2i-",
        "colab": {
          "base_uri": "https://localhost:8080/",
          "height": 34
        },
        "outputId": "43924a99-ad25-41c3-91ec-37ad5e301f70"
      },
      "source": [
        "a = torch.ones(3, dtype=torch.long)\n",
        "a"
      ],
      "execution_count": null,
      "outputs": [
        {
          "output_type": "execute_result",
          "data": {
            "text/plain": [
              "tensor([1, 1, 1])"
            ]
          },
          "metadata": {
            "tags": []
          },
          "execution_count": 12
        }
      ]
    },
    {
      "cell_type": "code",
      "metadata": {
        "id": "Qc3LEFROeNry",
        "colab": {
          "base_uri": "https://localhost:8080/",
          "height": 34
        },
        "outputId": "191cd1d6-35ab-4b04-db02-ed8696ac2d96"
      },
      "source": [
        "x = torch.tensor([5.5, 3])\n",
        "x"
      ],
      "execution_count": null,
      "outputs": [
        {
          "output_type": "execute_result",
          "data": {
            "text/plain": [
              "tensor([5.5000, 3.0000])"
            ]
          },
          "metadata": {
            "tags": []
          },
          "execution_count": 13
        }
      ]
    },
    {
      "cell_type": "code",
      "metadata": {
        "id": "PvKlP8QteWR0",
        "colab": {
          "base_uri": "https://localhost:8080/",
          "height": 102
        },
        "outputId": "622bd522-913c-4649-e6dc-3eb108afbe5a"
      },
      "source": [
        "# Creating a tensor based on an existing tensor. These methods will reuse properties of the input tensor, e.g. dtype\n",
        "x = x.new_ones(5, 3, dtype=torch.double) # new_* methods take in sizes\n",
        "x"
      ],
      "execution_count": null,
      "outputs": [
        {
          "output_type": "execute_result",
          "data": {
            "text/plain": [
              "tensor([[1., 1., 1.],\n",
              "        [1., 1., 1.],\n",
              "        [1., 1., 1.],\n",
              "        [1., 1., 1.],\n",
              "        [1., 1., 1.]], dtype=torch.float64)"
            ]
          },
          "metadata": {
            "tags": []
          },
          "execution_count": 14
        }
      ]
    },
    {
      "cell_type": "code",
      "metadata": {
        "id": "rJiKyA52erYM",
        "colab": {
          "base_uri": "https://localhost:8080/",
          "height": 102
        },
        "outputId": "c990863a-beb5-4f31-a40c-5bb49733545d"
      },
      "source": [
        "x = torch.randn_like(x, dtype=torch.float)    # override dtype!\n",
        "x"
      ],
      "execution_count": null,
      "outputs": [
        {
          "output_type": "execute_result",
          "data": {
            "text/plain": [
              "tensor([[-0.6125, -0.3408, -0.1856],\n",
              "        [ 0.3077,  0.0066,  1.3437],\n",
              "        [-0.8480,  0.8010, -0.1335],\n",
              "        [-1.0343,  0.1071,  0.4825],\n",
              "        [-0.0091, -0.4897, -2.8141]])"
            ]
          },
          "metadata": {
            "tags": []
          },
          "execution_count": 15
        }
      ]
    },
    {
      "cell_type": "code",
      "metadata": {
        "id": "5tMPFXiQfHZt"
      },
      "source": [
        "y = torch.rand(5, 3)"
      ],
      "execution_count": null,
      "outputs": []
    },
    {
      "cell_type": "markdown",
      "metadata": {
        "id": "96duNhqce_fX"
      },
      "source": [
        "### Operations"
      ]
    },
    {
      "cell_type": "code",
      "metadata": {
        "id": "LODj3Hkje-2r",
        "colab": {
          "base_uri": "https://localhost:8080/",
          "height": 102
        },
        "outputId": "2bbadc96-a2e9-4758-82dd-895dc9d6e991"
      },
      "source": [
        "x + y"
      ],
      "execution_count": null,
      "outputs": [
        {
          "output_type": "execute_result",
          "data": {
            "text/plain": [
              "tensor([[ 0.1954,  0.3325,  0.7218],\n",
              "        [ 0.3231,  0.1257,  1.5167],\n",
              "        [ 0.1278,  1.7324,  0.3735],\n",
              "        [-0.9547,  0.9870,  1.1708],\n",
              "        [ 0.2119,  0.1096, -2.0860]])"
            ]
          },
          "metadata": {
            "tags": []
          },
          "execution_count": 17
        }
      ]
    },
    {
      "cell_type": "code",
      "metadata": {
        "id": "vmWkEqslfMGf",
        "colab": {
          "base_uri": "https://localhost:8080/",
          "height": 102
        },
        "outputId": "58440cb0-a98f-4e5d-a527-36cbcda77356"
      },
      "source": [
        "torch.add(x, y)"
      ],
      "execution_count": null,
      "outputs": [
        {
          "output_type": "execute_result",
          "data": {
            "text/plain": [
              "tensor([[ 0.1954,  0.3325,  0.7218],\n",
              "        [ 0.3231,  0.1257,  1.5167],\n",
              "        [ 0.1278,  1.7324,  0.3735],\n",
              "        [-0.9547,  0.9870,  1.1708],\n",
              "        [ 0.2119,  0.1096, -2.0860]])"
            ]
          },
          "metadata": {
            "tags": []
          },
          "execution_count": 18
        }
      ]
    },
    {
      "cell_type": "code",
      "metadata": {
        "id": "gBO68XDUfQJ9",
        "colab": {
          "base_uri": "https://localhost:8080/",
          "height": 102
        },
        "outputId": "00060c97-7111-48b0-c7f7-c790e30b3fbf"
      },
      "source": [
        "result = torch.empty(5, 3)\n",
        "torch.add(x, y, out=result)\n",
        "result"
      ],
      "execution_count": null,
      "outputs": [
        {
          "output_type": "execute_result",
          "data": {
            "text/plain": [
              "tensor([[ 0.1954,  0.3325,  0.7218],\n",
              "        [ 0.3231,  0.1257,  1.5167],\n",
              "        [ 0.1278,  1.7324,  0.3735],\n",
              "        [-0.9547,  0.9870,  1.1708],\n",
              "        [ 0.2119,  0.1096, -2.0860]])"
            ]
          },
          "metadata": {
            "tags": []
          },
          "execution_count": 19
        }
      ]
    },
    {
      "cell_type": "code",
      "metadata": {
        "id": "qf4MQlrHfYXL",
        "colab": {
          "base_uri": "https://localhost:8080/",
          "height": 102
        },
        "outputId": "eb4fa9bd-6d9a-4261-ee69-0c32bbf0aea5"
      },
      "source": [
        "y.add_(x)\n",
        "y"
      ],
      "execution_count": null,
      "outputs": [
        {
          "output_type": "execute_result",
          "data": {
            "text/plain": [
              "tensor([[ 0.1954,  0.3325,  0.7218],\n",
              "        [ 0.3231,  0.1257,  1.5167],\n",
              "        [ 0.1278,  1.7324,  0.3735],\n",
              "        [-0.9547,  0.9870,  1.1708],\n",
              "        [ 0.2119,  0.1096, -2.0860]])"
            ]
          },
          "metadata": {
            "tags": []
          },
          "execution_count": 20
        }
      ]
    },
    {
      "cell_type": "markdown",
      "metadata": {
        "id": "NJ96AorCkMVY"
      },
      "source": [
        "### Numpy Interchangability"
      ]
    },
    {
      "cell_type": "code",
      "metadata": {
        "id": "64_O4HBCjcML",
        "colab": {
          "base_uri": "https://localhost:8080/",
          "height": 34
        },
        "outputId": "bfab6b30-1f04-4aa3-fe86-1d43e8accf06"
      },
      "source": [
        "a = torch.ones(5)\n",
        "a"
      ],
      "execution_count": null,
      "outputs": [
        {
          "output_type": "execute_result",
          "data": {
            "text/plain": [
              "tensor([1., 1., 1., 1., 1.])"
            ]
          },
          "metadata": {
            "tags": []
          },
          "execution_count": 21
        }
      ]
    },
    {
      "cell_type": "code",
      "metadata": {
        "id": "WFkfqzZVkTgc",
        "colab": {
          "base_uri": "https://localhost:8080/",
          "height": 34
        },
        "outputId": "3f8daa6f-65d8-4c13-f0ba-8e69bd0dfbf2"
      },
      "source": [
        "b = a.numpy()\n",
        "b"
      ],
      "execution_count": null,
      "outputs": [
        {
          "output_type": "execute_result",
          "data": {
            "text/plain": [
              "array([1., 1., 1., 1., 1.], dtype=float32)"
            ]
          },
          "metadata": {
            "tags": []
          },
          "execution_count": 22
        }
      ]
    },
    {
      "cell_type": "code",
      "metadata": {
        "id": "4vIm7NjHka4m",
        "colab": {
          "base_uri": "https://localhost:8080/",
          "height": 51
        },
        "outputId": "9b0fee00-2d1f-4ac7-c5ad-085d03dbf585"
      },
      "source": [
        "a.add_(1)\n",
        "print(a)\n",
        "print(b)"
      ],
      "execution_count": null,
      "outputs": [
        {
          "output_type": "stream",
          "text": [
            "tensor([2., 2., 2., 2., 2.])\n",
            "[2. 2. 2. 2. 2.]\n"
          ],
          "name": "stdout"
        }
      ]
    },
    {
      "cell_type": "code",
      "metadata": {
        "id": "lW5FKZKvknd3",
        "colab": {
          "base_uri": "https://localhost:8080/",
          "height": 51
        },
        "outputId": "acbd8619-7e16-4fbc-be0f-fb6557fa9c2b"
      },
      "source": [
        "import numpy as np\n",
        "a = np.ones(5)\n",
        "b = torch.from_numpy(a)\n",
        "np.add(a, 1, out=a)\n",
        "print(a)\n",
        "print(b)"
      ],
      "execution_count": null,
      "outputs": [
        {
          "output_type": "stream",
          "text": [
            "[2. 2. 2. 2. 2.]\n",
            "tensor([2., 2., 2., 2., 2.], dtype=torch.float64)\n"
          ],
          "name": "stdout"
        }
      ]
    },
    {
      "cell_type": "markdown",
      "metadata": {
        "id": "I2-kqdv_dwkq"
      },
      "source": [
        "### Storage and Views"
      ]
    },
    {
      "cell_type": "code",
      "metadata": {
        "id": "0WITOHsvZRNm",
        "colab": {
          "base_uri": "https://localhost:8080/",
          "height": 68
        },
        "outputId": "0eb46a37-d034-419a-a5ee-4b5b71655fb2"
      },
      "source": [
        "points = torch.FloatTensor([[4.0, 1.0], [5.0, 3.0], [2.0, 1.0]])\n",
        "points"
      ],
      "execution_count": null,
      "outputs": [
        {
          "output_type": "execute_result",
          "data": {
            "text/plain": [
              "tensor([[4., 1.],\n",
              "        [5., 3.],\n",
              "        [2., 1.]])"
            ]
          },
          "metadata": {
            "tags": []
          },
          "execution_count": 25
        }
      ]
    },
    {
      "cell_type": "code",
      "metadata": {
        "id": "9wyoLlUHaqmg",
        "colab": {
          "base_uri": "https://localhost:8080/",
          "height": 136
        },
        "outputId": "43cc1742-2e19-457c-e495-500d26a1ccb6"
      },
      "source": [
        "points.storage()"
      ],
      "execution_count": null,
      "outputs": [
        {
          "output_type": "execute_result",
          "data": {
            "text/plain": [
              " 4.0\n",
              " 1.0\n",
              " 5.0\n",
              " 3.0\n",
              " 2.0\n",
              " 1.0\n",
              "[torch.FloatStorage of size 6]"
            ]
          },
          "metadata": {
            "tags": []
          },
          "execution_count": 26
        }
      ]
    },
    {
      "cell_type": "code",
      "metadata": {
        "id": "uriuYNIvaxUS",
        "colab": {
          "base_uri": "https://localhost:8080/",
          "height": 68
        },
        "outputId": "167e6f3c-8363-4a3b-8f68-b58a5fa16eeb"
      },
      "source": [
        "points_storage = points.storage()\n",
        "points_storage[0] = 2.0\n",
        "points"
      ],
      "execution_count": null,
      "outputs": [
        {
          "output_type": "execute_result",
          "data": {
            "text/plain": [
              "tensor([[2., 1.],\n",
              "        [5., 3.],\n",
              "        [2., 1.]])"
            ]
          },
          "metadata": {
            "tags": []
          },
          "execution_count": 27
        }
      ]
    },
    {
      "cell_type": "code",
      "metadata": {
        "id": "7RMtISBYa5_n",
        "colab": {
          "base_uri": "https://localhost:8080/",
          "height": 34
        },
        "outputId": "3d5c7023-353e-4216-e5d8-e7b8c430cf52"
      },
      "source": [
        "points = torch.tensor([[4.0, 1.0], [5.0, 3.0], [2.0, 1.0]])\n",
        "second_point = points[1]\n",
        "second_point.storage_offset()"
      ],
      "execution_count": null,
      "outputs": [
        {
          "output_type": "execute_result",
          "data": {
            "text/plain": [
              "2"
            ]
          },
          "metadata": {
            "tags": []
          },
          "execution_count": 28
        }
      ]
    },
    {
      "cell_type": "code",
      "metadata": {
        "id": "xsdW47Pabbra",
        "colab": {
          "base_uri": "https://localhost:8080/",
          "height": 34
        },
        "outputId": "8b583fd1-012b-4d90-dbb8-460bb020d859"
      },
      "source": [
        "second_point.size()"
      ],
      "execution_count": null,
      "outputs": [
        {
          "output_type": "execute_result",
          "data": {
            "text/plain": [
              "torch.Size([2])"
            ]
          },
          "metadata": {
            "tags": []
          },
          "execution_count": 29
        }
      ]
    },
    {
      "cell_type": "code",
      "metadata": {
        "id": "u_R7wBGjbed_",
        "colab": {
          "base_uri": "https://localhost:8080/",
          "height": 34
        },
        "outputId": "0832e59e-175e-4268-ef78-e5d3bdbf9641"
      },
      "source": [
        "second_point.shape"
      ],
      "execution_count": null,
      "outputs": [
        {
          "output_type": "execute_result",
          "data": {
            "text/plain": [
              "torch.Size([2])"
            ]
          },
          "metadata": {
            "tags": []
          },
          "execution_count": 30
        }
      ]
    },
    {
      "cell_type": "code",
      "metadata": {
        "id": "HRgKv1qbbhBe",
        "colab": {
          "base_uri": "https://localhost:8080/",
          "height": 34
        },
        "outputId": "49c59ef3-e197-49e7-e83e-a4d0e4484cf6"
      },
      "source": [
        "# Stride is a tuple indicating the number of elements in the storage that have to be skipped when the index is increased by 1 in each dimension\n",
        "points.stride()"
      ],
      "execution_count": null,
      "outputs": [
        {
          "output_type": "execute_result",
          "data": {
            "text/plain": [
              "(2, 1)"
            ]
          },
          "metadata": {
            "tags": []
          },
          "execution_count": 31
        }
      ]
    },
    {
      "cell_type": "code",
      "metadata": {
        "id": "uHzwUYQkbjxF",
        "colab": {
          "base_uri": "https://localhost:8080/",
          "height": 34
        },
        "outputId": "7dd32a4a-d37d-4105-b35a-b2e7a2e12ced"
      },
      "source": [
        "second_point.stride()"
      ],
      "execution_count": null,
      "outputs": [
        {
          "output_type": "execute_result",
          "data": {
            "text/plain": [
              "(1,)"
            ]
          },
          "metadata": {
            "tags": []
          },
          "execution_count": 32
        }
      ]
    },
    {
      "cell_type": "code",
      "metadata": {
        "id": "4IIiyEPWcrZL",
        "colab": {
          "base_uri": "https://localhost:8080/",
          "height": 68
        },
        "outputId": "33cc3f40-a7b6-4391-bd32-8e388b99a821"
      },
      "source": [
        "points = torch.tensor([[4.0, 1.0], [5.0, 3.0], [2.0, 1.0]])\n",
        "second_point = points[1].clone()\n",
        "second_point[0] = 10.0\n",
        "points"
      ],
      "execution_count": null,
      "outputs": [
        {
          "output_type": "execute_result",
          "data": {
            "text/plain": [
              "tensor([[4., 1.],\n",
              "        [5., 3.],\n",
              "        [2., 1.]])"
            ]
          },
          "metadata": {
            "tags": []
          },
          "execution_count": 33
        }
      ]
    },
    {
      "cell_type": "code",
      "metadata": {
        "id": "xt1mYisncxVw",
        "colab": {
          "base_uri": "https://localhost:8080/",
          "height": 51
        },
        "outputId": "31141767-e010-4773-eb31-283609905158"
      },
      "source": [
        "points_t = points.t()\n",
        "points_t"
      ],
      "execution_count": null,
      "outputs": [
        {
          "output_type": "execute_result",
          "data": {
            "text/plain": [
              "tensor([[4., 5., 2.],\n",
              "        [1., 3., 1.]])"
            ]
          },
          "metadata": {
            "tags": []
          },
          "execution_count": 34
        }
      ]
    },
    {
      "cell_type": "code",
      "metadata": {
        "id": "WRMf946Gc1tQ",
        "colab": {
          "base_uri": "https://localhost:8080/",
          "height": 34
        },
        "outputId": "54410f8d-d714-46d4-919d-1a4267c825b1"
      },
      "source": [
        "id(points.storage()) == id(points_t.storage())"
      ],
      "execution_count": null,
      "outputs": [
        {
          "output_type": "execute_result",
          "data": {
            "text/plain": [
              "True"
            ]
          },
          "metadata": {
            "tags": []
          },
          "execution_count": 35
        }
      ]
    },
    {
      "cell_type": "code",
      "metadata": {
        "id": "r6NfsY4Wc6Rk",
        "colab": {
          "base_uri": "https://localhost:8080/",
          "height": 34
        },
        "outputId": "e873a107-b852-4500-a431-75d171cd0cda"
      },
      "source": [
        "points.stride()"
      ],
      "execution_count": null,
      "outputs": [
        {
          "output_type": "execute_result",
          "data": {
            "text/plain": [
              "(2, 1)"
            ]
          },
          "metadata": {
            "tags": []
          },
          "execution_count": 36
        }
      ]
    },
    {
      "cell_type": "code",
      "metadata": {
        "id": "heWqLO2gc8bY",
        "colab": {
          "base_uri": "https://localhost:8080/",
          "height": 34
        },
        "outputId": "1931745e-132b-4d67-b7b7-08269a6b8ccc"
      },
      "source": [
        "points_t.stride()"
      ],
      "execution_count": null,
      "outputs": [
        {
          "output_type": "execute_result",
          "data": {
            "text/plain": [
              "(1, 2)"
            ]
          },
          "metadata": {
            "tags": []
          },
          "execution_count": 37
        }
      ]
    },
    {
      "cell_type": "code",
      "metadata": {
        "id": "r2wyM55jc-hK",
        "colab": {
          "base_uri": "https://localhost:8080/",
          "height": 34
        },
        "outputId": "35664a50-0146-4f55-a3a4-313a798f4c0a"
      },
      "source": [
        "points.is_contiguous()"
      ],
      "execution_count": null,
      "outputs": [
        {
          "output_type": "execute_result",
          "data": {
            "text/plain": [
              "True"
            ]
          },
          "metadata": {
            "tags": []
          },
          "execution_count": 38
        }
      ]
    },
    {
      "cell_type": "code",
      "metadata": {
        "id": "r119HXjEdEx8",
        "colab": {
          "base_uri": "https://localhost:8080/",
          "height": 34
        },
        "outputId": "e033b4c9-efe2-4d87-c439-92f9853e47e1"
      },
      "source": [
        "points_t.is_contiguous()"
      ],
      "execution_count": null,
      "outputs": [
        {
          "output_type": "execute_result",
          "data": {
            "text/plain": [
              "False"
            ]
          },
          "metadata": {
            "tags": []
          },
          "execution_count": 39
        }
      ]
    },
    {
      "cell_type": "code",
      "metadata": {
        "id": "Wbwyt4Q2jsOC",
        "colab": {
          "base_uri": "https://localhost:8080/",
          "height": 34
        },
        "outputId": "9365ad34-638b-44f1-8515-535c8eee978e"
      },
      "source": [
        "x = torch.randn(4, 4)\n",
        "y = x.view(16)\n",
        "z = x.view(-1, 8)  # the size -1 is inferred from other dimensions\n",
        "print(x.size(), y.size(), z.size())"
      ],
      "execution_count": null,
      "outputs": [
        {
          "output_type": "stream",
          "text": [
            "torch.Size([4, 4]) torch.Size([16]) torch.Size([2, 8])\n"
          ],
          "name": "stdout"
        }
      ]
    },
    {
      "cell_type": "markdown",
      "metadata": {
        "id": "cCudreKkkzuZ"
      },
      "source": [
        "### CUDA Tensors"
      ]
    },
    {
      "cell_type": "code",
      "metadata": {
        "id": "h8t2zwPAdG5e",
        "colab": {
          "base_uri": "https://localhost:8080/",
          "height": 153
        },
        "outputId": "04438fea-fd78-4367-a3ba-839dd3cab93b"
      },
      "source": [
        "if torch.cuda.is_available():\n",
        "    device = torch.device(\"cuda\")          # a CUDA device object\n",
        "    y = torch.ones_like(x, device=device)  # directly create a tensor on GPU\n",
        "    x = x.to(device)                       # or just use strings ``.to(\"cuda\")``\n",
        "    z = x + y\n",
        "    print(z)\n",
        "    print(z.to(\"cpu\", torch.double))       # ``.to`` can also change dtype together!"
      ],
      "execution_count": null,
      "outputs": [
        {
          "output_type": "stream",
          "text": [
            "tensor([[-0.3412,  1.6253,  0.8647,  0.8041],\n",
            "        [ 0.4846, -0.0901,  1.0045, -0.0930],\n",
            "        [ 1.6945,  1.5010,  2.3046,  0.8209],\n",
            "        [ 1.3585,  1.1518,  1.9489,  0.4589]], device='cuda:0')\n",
            "tensor([[-0.3412,  1.6253,  0.8647,  0.8041],\n",
            "        [ 0.4846, -0.0901,  1.0045, -0.0930],\n",
            "        [ 1.6945,  1.5010,  2.3046,  0.8209],\n",
            "        [ 1.3585,  1.1518,  1.9489,  0.4589]], dtype=torch.float64)\n"
          ],
          "name": "stdout"
        }
      ]
    },
    {
      "cell_type": "markdown",
      "metadata": {
        "id": "Y7v33EK7mRkm"
      },
      "source": [
        "# Autograd"
      ]
    },
    {
      "cell_type": "code",
      "metadata": {
        "id": "3PBoWP_Kmzxx",
        "colab": {
          "base_uri": "https://localhost:8080/"
        },
        "outputId": "45b65f0b-fad8-4dd6-f169-6b1382dc25fa"
      },
      "source": [
        "a = torch.randn(2, 2)\n",
        "a = ((a * 3) / (a - 1))\n",
        "print(a.requires_grad)"
      ],
      "execution_count": null,
      "outputs": [
        {
          "output_type": "stream",
          "name": "stdout",
          "text": [
            "False\n"
          ]
        }
      ]
    },
    {
      "cell_type": "code",
      "metadata": {
        "id": "DgW5AJApnNCS",
        "colab": {
          "base_uri": "https://localhost:8080/"
        },
        "outputId": "90e759a2-3cfa-4a0e-9713-434ffe3591d1"
      },
      "source": [
        "a.requires_grad_(True)\n",
        "print(a.requires_grad)"
      ],
      "execution_count": null,
      "outputs": [
        {
          "output_type": "stream",
          "name": "stdout",
          "text": [
            "True\n"
          ]
        }
      ]
    },
    {
      "cell_type": "code",
      "metadata": {
        "id": "umBswn4DnPoO",
        "colab": {
          "base_uri": "https://localhost:8080/"
        },
        "outputId": "f567acf5-ffc6-4701-c6e6-c9c964585cbb"
      },
      "source": [
        "b = (a * a).sum()\n",
        "print(b)"
      ],
      "execution_count": null,
      "outputs": [
        {
          "output_type": "stream",
          "name": "stdout",
          "text": [
            "tensor(11.7610, grad_fn=<SumBackward0>)\n"
          ]
        }
      ]
    },
    {
      "cell_type": "markdown",
      "metadata": {
        "id": "1-78hYueoYDt"
      },
      "source": [
        "### Example for scaler-valued function"
      ]
    },
    {
      "cell_type": "code",
      "metadata": {
        "id": "CKYqi3wjmTkA",
        "colab": {
          "base_uri": "https://localhost:8080/"
        },
        "outputId": "479e3494-d182-450a-c434-34862cf55449"
      },
      "source": [
        "x = torch.ones(2, 2, requires_grad=True)\n",
        "x"
      ],
      "execution_count": null,
      "outputs": [
        {
          "output_type": "execute_result",
          "data": {
            "text/plain": [
              "tensor([[1., 1.],\n",
              "        [1., 1.]], requires_grad=True)"
            ]
          },
          "metadata": {},
          "execution_count": 7
        }
      ]
    },
    {
      "cell_type": "code",
      "metadata": {
        "id": "sjWIsKf9mbUx",
        "colab": {
          "base_uri": "https://localhost:8080/"
        },
        "outputId": "78fe616a-cf55-44f8-81e7-2ef5fcd29759"
      },
      "source": [
        "y = x + 2\n",
        "print(y)\n",
        "print(y.grad_fn) # .grad_fn attribute that references a Function"
      ],
      "execution_count": null,
      "outputs": [
        {
          "output_type": "stream",
          "name": "stdout",
          "text": [
            "tensor([[3., 3.],\n",
            "        [3., 3.]], grad_fn=<AddBackward0>)\n",
            "<AddBackward0 object at 0x7f91db0c1250>\n"
          ]
        }
      ]
    },
    {
      "cell_type": "markdown",
      "metadata": {
        "id": "_vpNilJ_ofXm"
      },
      "source": [
        "$$ z = \\frac{1}{N} \\sum_{i=1}^N 3(x_i + 2)^2 $$"
      ]
    },
    {
      "cell_type": "code",
      "metadata": {
        "id": "SE6WYqPimhJy",
        "colab": {
          "base_uri": "https://localhost:8080/"
        },
        "outputId": "7a23e9e6-70f2-45ad-be96-9b95f5d891a0"
      },
      "source": [
        "z = y * y * 3\n",
        "out = z.mean()\n",
        "print(z)\n",
        "print(out)"
      ],
      "execution_count": null,
      "outputs": [
        {
          "output_type": "stream",
          "name": "stdout",
          "text": [
            "tensor([[27., 27.],\n",
            "        [27., 27.]], grad_fn=<MulBackward0>)\n",
            "tensor(27., grad_fn=<MeanBackward0>)\n"
          ]
        }
      ]
    },
    {
      "cell_type": "markdown",
      "metadata": {
        "id": "Y4yRQN5hpnd9"
      },
      "source": [
        "$$ \\frac{\\partial z}{\\partial x_i} = \\frac{3}{2} (x_i + 2) $$"
      ]
    },
    {
      "cell_type": "code",
      "metadata": {
        "id": "39CLLcbBnSFB"
      },
      "source": [
        "out.backward()  # same as out.backward(torch.tensor(1.))"
      ],
      "execution_count": null,
      "outputs": []
    },
    {
      "cell_type": "code",
      "metadata": {
        "id": "XCZNmjaCnqsw",
        "colab": {
          "base_uri": "https://localhost:8080/"
        },
        "outputId": "de5e0159-7d64-4f2e-92a6-9b32aa4b2969"
      },
      "source": [
        "x.grad # = d(out)/dx"
      ],
      "execution_count": null,
      "outputs": [
        {
          "output_type": "execute_result",
          "data": {
            "text/plain": [
              "tensor([[4.5000, 4.5000],\n",
              "        [4.5000, 4.5000]])"
            ]
          },
          "metadata": {},
          "execution_count": 11
        }
      ]
    },
    {
      "cell_type": "markdown",
      "metadata": {
        "id": "J8hAcWHgq6oV"
      },
      "source": [
        "### Example of non-scalar-output function"
      ]
    },
    {
      "cell_type": "markdown",
      "metadata": {
        "id": "MVn0pKxnrosP"
      },
      "source": [
        "NOTE: `torch.autograd` is an engine for computing vector-Jacobian product:\n",
        "\n",
        "It means: if we have $\\vec{y}=f(\\vec{x})$, given any vector $v=\\left(\\begin{array}{ccc}\\frac{\\partial l}{\\partial y_{1}} & \\cdots & \\frac{\\partial l}{\\partial y_{m}}\\end{array}\\right)^{T}$, it can compute the gradient of $l$ with respect of $\\vec{x}$:\n",
        "\n",
        "$$\\begin{split}J^{T}\\cdot v=\\left(\\begin{array}{ccc}\n",
        " \\frac{\\partial y_{1}}{\\partial x_{1}} & \\cdots & \\frac{\\partial y_{m}}{\\partial x_{1}}\\\\\n",
        " \\vdots & \\ddots & \\vdots\\\\\n",
        " \\frac{\\partial y_{1}}{\\partial x_{n}} & \\cdots & \\frac{\\partial y_{m}}{\\partial x_{n}}\n",
        " \\end{array}\\right)\\left(\\begin{array}{c}\n",
        " \\frac{\\partial l}{\\partial y_{1}}\\\\\n",
        " \\vdots\\\\\n",
        " \\frac{\\partial l}{\\partial y_{m}}\n",
        " \\end{array}\\right)=\\left(\\begin{array}{c}\n",
        " \\frac{\\partial l}{\\partial x_{1}}\\\\\n",
        " \\vdots\\\\\n",
        " \\frac{\\partial l}{\\partial x_{n}}\n",
        " \\end{array}\\right)\\end{split} $$"
      ]
    },
    {
      "cell_type": "code",
      "metadata": {
        "id": "r7uP-QMrrKGk",
        "colab": {
          "base_uri": "https://localhost:8080/"
        },
        "outputId": "29282074-9dbc-4039-86e4-9c95770bdbee"
      },
      "source": [
        "x = torch.randn(3, requires_grad=True)\n",
        "y = x * 2\n",
        "while y.data.norm() < 1000:\n",
        "    y = y * 2\n",
        "print(x)\n",
        "print(y)"
      ],
      "execution_count": null,
      "outputs": [
        {
          "output_type": "stream",
          "name": "stdout",
          "text": [
            "tensor([ 0.3952, -0.1307, -0.2266], requires_grad=True)\n",
            "tensor([1618.8090, -535.5025, -928.0955], grad_fn=<MulBackward0>)\n"
          ]
        }
      ]
    },
    {
      "cell_type": "code",
      "metadata": {
        "id": "uhpBhZ4su50G",
        "colab": {
          "base_uri": "https://localhost:8080/"
        },
        "outputId": "b715df59-eb27-4663-9131-fd0040cacfc3"
      },
      "source": [
        "v = torch.tensor([0.1, 1.0, 0.0001], dtype=torch.float)\n",
        "y.backward(v)\n",
        "print(x.grad)"
      ],
      "execution_count": null,
      "outputs": [
        {
          "output_type": "stream",
          "name": "stdout",
          "text": [
            "tensor([4.0960e+02, 4.0960e+03, 4.0960e-01])\n"
          ]
        }
      ]
    },
    {
      "cell_type": "markdown",
      "metadata": {
        "id": "AmWG9fo6vms0"
      },
      "source": [
        "### Stop autograd if needed"
      ]
    },
    {
      "cell_type": "code",
      "metadata": {
        "id": "KuBRBNhsu8th",
        "colab": {
          "base_uri": "https://localhost:8080/"
        },
        "outputId": "8f9e9c4a-b07a-42c5-a139-1b2ef035263f"
      },
      "source": [
        "print(x.requires_grad)\n",
        "print((x ** 2).requires_grad)\n",
        "\n",
        "with torch.no_grad():\n",
        "    print((x ** 2).requires_grad)"
      ],
      "execution_count": null,
      "outputs": [
        {
          "output_type": "stream",
          "name": "stdout",
          "text": [
            "True\n",
            "True\n",
            "False\n"
          ]
        }
      ]
    },
    {
      "cell_type": "code",
      "metadata": {
        "id": "X4y7-PdFvrLb",
        "colab": {
          "base_uri": "https://localhost:8080/"
        },
        "outputId": "761e6e24-babc-4496-ede0-c54e134ec8ec"
      },
      "source": [
        "print(x.requires_grad)\n",
        "y = x.detach()\n",
        "print(y.requires_grad)\n",
        "print(x.eq(y).all())"
      ],
      "execution_count": null,
      "outputs": [
        {
          "output_type": "stream",
          "name": "stdout",
          "text": [
            "True\n",
            "False\n",
            "tensor(True)\n"
          ]
        }
      ]
    },
    {
      "cell_type": "markdown",
      "metadata": {
        "id": "9qflSNcBSqxP"
      },
      "source": [
        "### Using autograd to solve an optimization problem"
      ]
    },
    {
      "cell_type": "code",
      "metadata": {
        "id": "ZRomBJY1S0GV"
      },
      "source": [
        "import numpy as np\n",
        "import torch"
      ],
      "execution_count": null,
      "outputs": []
    },
    {
      "cell_type": "code",
      "metadata": {
        "id": "yz-mOc6g4TF2"
      },
      "source": [
        "import torch.optim as optim\n",
        "dir(optim)"
      ],
      "execution_count": null,
      "outputs": []
    },
    {
      "cell_type": "markdown",
      "metadata": {
        "id": "ehDdplUCTkRH"
      },
      "source": [
        "We want to solve the minumum value of the function $$ f(x) = a x^2 + b x + c $$"
      ]
    },
    {
      "cell_type": "code",
      "metadata": {
        "id": "X_HTkBoSTOb1"
      },
      "source": [
        "def f(x):\n",
        "    result = a*torch.pow(x,2) + b*x + c\n",
        "    return(result)"
      ],
      "execution_count": null,
      "outputs": []
    },
    {
      "cell_type": "code",
      "metadata": {
        "id": "py8gwzF5S4cL"
      },
      "source": [
        "x = torch.tensor(0.0,requires_grad = True)\n",
        "a = torch.tensor(2.0)\n",
        "b = torch.tensor(-5.0)\n",
        "c = torch.tensor(3.0)"
      ],
      "execution_count": null,
      "outputs": []
    },
    {
      "cell_type": "code",
      "metadata": {
        "id": "eN0lRzGVTJun"
      },
      "source": [
        "optimizer = torch.optim.SGD(params=[x],lr = 0.01)"
      ],
      "execution_count": null,
      "outputs": []
    },
    {
      "cell_type": "code",
      "metadata": {
        "id": "KFIwN626TLnD"
      },
      "source": [
        "for i in range(500):\n",
        "    optimizer.zero_grad()\n",
        "    y = f(x)\n",
        "    y.backward()\n",
        "    optimizer.step()"
      ],
      "execution_count": null,
      "outputs": []
    },
    {
      "cell_type": "code",
      "metadata": {
        "colab": {
          "base_uri": "https://localhost:8080/"
        },
        "id": "XoObnvBlTbIN",
        "outputId": "8556d217-8ddb-473a-a199-ec735a937ec4"
      },
      "source": [
        "print(\"y=\",f(x).data,\";\",\"x=\",x.data)"
      ],
      "execution_count": null,
      "outputs": [
        {
          "output_type": "stream",
          "name": "stdout",
          "text": [
            "y= tensor(-0.1250) ; x= tensor(1.2500)\n"
          ]
        }
      ]
    },
    {
      "cell_type": "markdown",
      "metadata": {
        "id": "xiSmJJTA2cnx"
      },
      "source": [
        "# Neural Networks\n",
        "\n",
        "Fahrenheit-Celsius Conversion Problem as illustration"
      ]
    },
    {
      "cell_type": "markdown",
      "metadata": {
        "id": "ih3_30yh2qHC"
      },
      "source": [
        "## Data preparation\n",
        "\n",
        "Assuming we collected the following data over the weeks:\n",
        "\n",
        "*   `t_c`: known temperature in Celsius\n",
        "*   `t_u`: 1 wall-mounted analog thermometer without unit"
      ]
    },
    {
      "cell_type": "code",
      "metadata": {
        "id": "HOwz-Z6S2nEF"
      },
      "source": [
        "t_c = [0.5,  14.0, 15.0, 28.0, 11.0,  8.0,  3.0, -4.0,  6.0, 13.0, 21.0]\n",
        "t_u = [35.7, 55.9, 58.2, 81.9, 56.3, 48.9, 33.9, 21.8, 48.4, 60.4, 68.4]"
      ],
      "execution_count": null,
      "outputs": []
    },
    {
      "cell_type": "code",
      "metadata": {
        "id": "mBllXQqUNlL4",
        "colab": {
          "base_uri": "https://localhost:8080/",
          "height": 579
        },
        "outputId": "621aaa53-0b2b-42a0-f8a5-6e36d5849e0e"
      },
      "source": [
        "import numpy as np\n",
        "from matplotlib import pyplot as plt\n",
        "\n",
        "t_u_range = np.linspace(20., 90.)\n",
        "t_c_range = (t_u_range -32) * 5/9\n",
        "\n",
        "fig = plt.figure(dpi=150)\n",
        "plt.xlabel(\"Fahrenheit\")\n",
        "plt.ylabel(\"Celsius\")\n",
        "plt.plot(t_u, t_c, 'o', label='Collected Data')\n",
        "plt.plot(t_u_range, t_c_range, '--', label='True relation')\n",
        "plt.legend(loc='best')"
      ],
      "execution_count": null,
      "outputs": [
        {
          "output_type": "execute_result",
          "data": {
            "text/plain": [
              "<matplotlib.legend.Legend at 0x7f3f1c0263c8>"
            ]
          },
          "metadata": {
            "tags": []
          },
          "execution_count": 55
        },
        {
          "output_type": "display_data",
          "data": {
            "image/png": "[encoded data removed]",
            "text/plain": [
              "<Figure size 900x600 with 1 Axes>"
            ]
          },
          "metadata": {
            "tags": [],
            "needs_background": "light"
          }
        }
      ]
    },
    {
      "cell_type": "code",
      "metadata": {
        "id": "l3twByb1OIYi",
        "colab": {
          "base_uri": "https://localhost:8080/",
          "height": 255
        },
        "outputId": "1d522c6c-4bca-4ab2-afad-5f49f37f7f99"
      },
      "source": [
        "print('t_u as Numpy list:', t_u)\n",
        "\n",
        "t_c = torch.tensor(t_c).unsqueeze(1) \n",
        "t_u = torch.tensor(t_u).unsqueeze(1) \n",
        "t_c = t_c.to(device)\n",
        "t_u = t_u.to(device)\n",
        "\n",
        "print(\"t_u after unsqueeze:\\n\", t_u)\n",
        "t_u.shape"
      ],
      "execution_count": null,
      "outputs": [
        {
          "output_type": "stream",
          "text": [
            "t_u as Numpy list: [35.7, 55.9, 58.2, 81.9, 56.3, 48.9, 33.9, 21.8, 48.4, 60.4, 68.4]\n",
            "t_u after unsqueeze:\n",
            " tensor([[35.7000],\n",
            "        [55.9000],\n",
            "        [58.2000],\n",
            "        [81.9000],\n",
            "        [56.3000],\n",
            "        [48.9000],\n",
            "        [33.9000],\n",
            "        [21.8000],\n",
            "        [48.4000],\n",
            "        [60.4000],\n",
            "        [68.4000]], device='cuda:0')\n"
          ],
          "name": "stdout"
        },
        {
          "output_type": "execute_result",
          "data": {
            "text/plain": [
              "torch.Size([11, 1])"
            ]
          },
          "metadata": {
            "tags": []
          },
          "execution_count": 56
        }
      ]
    },
    {
      "cell_type": "code",
      "metadata": {
        "id": "kyH9Jkf-3B8q",
        "colab": {
          "base_uri": "https://localhost:8080/",
          "height": 34
        },
        "outputId": "d5c3e573-afa8-4868-f78e-dea0e881dde9"
      },
      "source": [
        "n_samples = t_u.shape[0]\n",
        "n_val = int(0.2 * n_samples)\n",
        "\n",
        "shuffled_indices = torch.randperm(n_samples)\n",
        "\n",
        "train_indices = shuffled_indices[:-n_val]\n",
        "val_indices = shuffled_indices[-n_val:]\n",
        "\n",
        "train_indices, val_indices"
      ],
      "execution_count": null,
      "outputs": [
        {
          "output_type": "execute_result",
          "data": {
            "text/plain": [
              "(tensor([ 7,  5,  1,  6,  8, 10,  9,  4,  2]), tensor([3, 0]))"
            ]
          },
          "metadata": {
            "tags": []
          },
          "execution_count": 57
        }
      ]
    },
    {
      "cell_type": "code",
      "metadata": {
        "id": "tui3iHOA3IMd"
      },
      "source": [
        "t_u_train = t_u[train_indices]\n",
        "t_c_train = t_c[train_indices]\n",
        "\n",
        "t_u_val = t_u[val_indices]\n",
        "t_c_val = t_c[val_indices]"
      ],
      "execution_count": null,
      "outputs": []
    },
    {
      "cell_type": "markdown",
      "metadata": {
        "id": "XeqZJtRjW6Mv"
      },
      "source": [
        "**Watch out** for the scales of weights and biases. If they are in the different scaled space, one learning rate that is large for one enough to meaningfully update one will be so large as to be unstable for the other. \n",
        "\n",
        "The common way is to do the normalization to the data. But here it seems that a simple rescaling by a factor of ten can make the gradients of both weights and biases in the same magnitudes. That would be good enough for our demonstration."
      ]
    },
    {
      "cell_type": "code",
      "metadata": {
        "id": "YZ_kyP8rTijZ"
      },
      "source": [
        "t_un_train = 0.1 * t_u_train\n",
        "t_un_val = 0.1 * t_u_val"
      ],
      "execution_count": null,
      "outputs": []
    },
    {
      "cell_type": "markdown",
      "metadata": {
        "id": "f1mgkEsXJmXq"
      },
      "source": [
        "## Using Neural Network model"
      ]
    },
    {
      "cell_type": "code",
      "metadata": {
        "id": "_1hkkwRw3gfj"
      },
      "source": [
        "import torch.nn as nn\n",
        "dir(nn)"
      ],
      "execution_count": null,
      "outputs": []
    },
    {
      "cell_type": "markdown",
      "metadata": {
        "id": "ryUmQUQDJ3Q-"
      },
      "source": [
        "We use the simplest linear NN model with one hidden layer.\n",
        "<img src=\"https://huqy.github.io/idre-learning-deep-learning-pytorch/img/nn_c2f.svg\" alt=\"Linear NN model\" style=\"width: 500px;\"/>"
      ]
    },
    {
      "cell_type": "code",
      "metadata": {
        "id": "zdTM7yd_3yRO",
        "colab": {
          "base_uri": "https://localhost:8080/",
          "height": 102
        },
        "outputId": "652c18ef-3e0b-4d22-cf14-b8fa2742bc81"
      },
      "source": [
        "from collections import OrderedDict\n",
        "\n",
        "seq_model = nn.Sequential(OrderedDict([\n",
        "    ('hidden_linear', nn.Linear(1, 8)),\n",
        "    ('hidden_activation', nn.Tanh()),\n",
        "    ('output_linear', nn.Linear(8, 1))\n",
        "]))\n",
        "\n",
        "seq_model.to(device)\n",
        "\n",
        "seq_model"
      ],
      "execution_count": null,
      "outputs": [
        {
          "output_type": "execute_result",
          "data": {
            "text/plain": [
              "Sequential(\n",
              "  (hidden_linear): Linear(in_features=1, out_features=8, bias=True)\n",
              "  (hidden_activation): Tanh()\n",
              "  (output_linear): Linear(in_features=8, out_features=1, bias=True)\n",
              ")"
            ]
          },
          "metadata": {
            "tags": []
          },
          "execution_count": 61
        }
      ]
    },
    {
      "cell_type": "code",
      "metadata": {
        "id": "cF0lU1Cg39jA",
        "colab": {
          "base_uri": "https://localhost:8080/",
          "height": 85
        },
        "outputId": "ca427a15-23b7-42c2-87c2-3f29002ba720"
      },
      "source": [
        "for name, param in seq_model.named_parameters():\n",
        "    print(name, param.shape)"
      ],
      "execution_count": null,
      "outputs": [
        {
          "output_type": "stream",
          "text": [
            "hidden_linear.weight torch.Size([8, 1])\n",
            "hidden_linear.bias torch.Size([8])\n",
            "output_linear.weight torch.Size([1, 8])\n",
            "output_linear.bias torch.Size([1])\n"
          ],
          "name": "stdout"
        }
      ]
    },
    {
      "cell_type": "code",
      "metadata": {
        "id": "SIfs08P64C7X",
        "colab": {
          "base_uri": "https://localhost:8080/",
          "height": 51
        },
        "outputId": "93eaffb0-5919-4a0a-eedc-ea07d75f4f26"
      },
      "source": [
        "seq_model.output_linear.bias"
      ],
      "execution_count": null,
      "outputs": [
        {
          "output_type": "execute_result",
          "data": {
            "text/plain": [
              "Parameter containing:\n",
              "tensor([-0.2060], device='cuda:0', requires_grad=True)"
            ]
          },
          "metadata": {
            "tags": []
          },
          "execution_count": 63
        }
      ]
    },
    {
      "cell_type": "markdown",
      "metadata": {
        "id": "U5bO7FujOap_"
      },
      "source": [
        "## Training"
      ]
    },
    {
      "cell_type": "code",
      "metadata": {
        "id": "cmjdNO6r4bYB"
      },
      "source": [
        "def training_loop(n_epochs, optimizer, model, loss_fn, t_u_train, t_u_val, t_c_train, t_c_val):\n",
        "    for epoch in range(1, n_epochs + 1):\n",
        "\n",
        "        t_p_train = model(t_u_train) \n",
        "        loss_train = loss_fn(t_p_train, t_c_train)\n",
        "\n",
        "        t_p_val = model(t_u_val) \n",
        "        loss_val = loss_fn(t_p_val, t_c_val)\n",
        "        \n",
        "        optimizer.zero_grad()\n",
        "        loss_train.backward() \n",
        "        optimizer.step()\n",
        "\n",
        "        if epoch == 1 or epoch % 1000 == 0:\n",
        "            print('Epoch {}, Training loss {}, Validation loss {}'.format(\n",
        "                epoch, float(loss_train), float(loss_val)))"
      ],
      "execution_count": null,
      "outputs": []
    },
    {
      "cell_type": "code",
      "metadata": {
        "id": "JCsYuvb24GyK",
        "colab": {
          "base_uri": "https://localhost:8080/",
          "height": 323
        },
        "outputId": "d237e37a-5efe-4ef9-f6f3-890a6e262b39"
      },
      "source": [
        "optimizer = optim.SGD(seq_model.parameters(), lr=1e-3) \n",
        "\n",
        "training_loop(\n",
        "    n_epochs = 5000, \n",
        "    optimizer = optimizer,\n",
        "    model = seq_model,\n",
        "    loss_fn = nn.MSELoss(),\n",
        "    t_u_train = t_un_train,\n",
        "    t_u_val = t_un_val, \n",
        "    t_c_train = t_c_train,\n",
        "    t_c_val = t_c_val)\n",
        "    \n",
        "print('output', seq_model(t_un_val))\n",
        "print('answer', t_c_val)\n",
        "print('hidden', seq_model.hidden_linear.weight.grad)"
      ],
      "execution_count": null,
      "outputs": [
        {
          "output_type": "stream",
          "text": [
            "Epoch 1, Training loss 168.82614135742188, Validation loss 430.9350891113281\n",
            "Epoch 1000, Training loss 5.3353681564331055, Validation loss 56.425514221191406\n",
            "Epoch 2000, Training loss 3.143742322921753, Validation loss 27.245527267456055\n",
            "Epoch 3000, Training loss 2.550266981124878, Validation loss 17.77342987060547\n",
            "Epoch 4000, Training loss 2.2472312450408936, Validation loss 12.695697784423828\n",
            "Epoch 5000, Training loss 2.3520495891571045, Validation loss 9.433873176574707\n",
            "output tensor([[23.6293],\n",
            "        [ 2.1584]], device='cuda:0', grad_fn=<AddmmBackward>)\n",
            "answer tensor([[28.0000],\n",
            "        [ 0.5000]], device='cuda:0')\n",
            "hidden tensor([[ 1.8398e+00],\n",
            "        [ 1.7023e+00],\n",
            "        [ 2.3202e+01],\n",
            "        [-1.2213e+01],\n",
            "        [-1.1468e-02],\n",
            "        [-1.9977e+01],\n",
            "        [-2.1008e+00],\n",
            "        [ 8.6864e-01]], device='cuda:0')\n"
          ],
          "name": "stdout"
        }
      ]
    },
    {
      "cell_type": "code",
      "metadata": {
        "id": "m5knIqr04hVS",
        "colab": {
          "base_uri": "https://localhost:8080/",
          "height": 579
        },
        "outputId": "c2bda5b0-ac1f-426e-91db-a0d774645619"
      },
      "source": [
        "from matplotlib import pyplot as plt\n",
        "\n",
        "t_range = torch.arange(20., 90.).unsqueeze(1)\n",
        "t_range = t_range.to(device)\n",
        "\n",
        "t_u_range = np.linspace(20., 90.)\n",
        "t_c_range = (t_u_range -32) * 5/9\n",
        "\n",
        "fig = plt.figure(dpi=150)\n",
        "plt.xlabel(\"Fahrenheit\")\n",
        "plt.ylabel(\"Celsius\")\n",
        "plt.plot(t_u.cpu().numpy(), t_c.cpu().numpy(), 'o', label=\"Collected data\")\n",
        "plt.plot(t_range.cpu().numpy(), seq_model(0.1 * t_range).detach().cpu().numpy(), 'c-', label=\"Prediction curve from NN\")\n",
        "plt.plot(t_u.cpu().numpy(), seq_model(0.1 * t_u).detach().cpu().numpy(), 'kx', label=\"Predicted data from NN\")\n",
        "plt.plot(t_u_range, t_c_range, '--', label=\"Known truth\")\n",
        "plt.legend(loc='best')"
      ],
      "execution_count": null,
      "outputs": [
        {
          "output_type": "execute_result",
          "data": {
            "text/plain": [
              "<matplotlib.legend.Legend at 0x7f3f15309e48>"
            ]
          },
          "metadata": {
            "tags": []
          },
          "execution_count": 67
        },
        {
          "output_type": "display_data",
          "data": {
            "image/png": "[encoded data removed]",
            "text/plain": [
              "<Figure size 900x600 with 1 Axes>"
            ]
          },
          "metadata": {
            "tags": [],
            "needs_background": "light"
          }
        }
      ]
    }
  ]
}